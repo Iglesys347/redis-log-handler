{
 "cells": [
  {
   "attachments": {},
   "cell_type": "markdown",
   "metadata": {},
   "source": [
    "# Batched logs example\n",
    "\n",
    "This example will show you how to optimize you programs execution time by batching the logs emitted by `rlh` handlers.\n",
    "\n",
    "> Note that in this example, we will use `RedisStreamLogHandler` but this is valid with any other handlers defined in `rlh`."
   ]
  },
  {
   "attachments": {},
   "cell_type": "markdown",
   "metadata": {},
   "source": [
    "## Logger setup"
   ]
  },
  {
   "cell_type": "code",
   "execution_count": 1,
   "metadata": {},
   "outputs": [],
   "source": [
    "import logging\n",
    "from rlh import RedisStreamLogHandler\n",
    "\n",
    "# define the logger\n",
    "logging.basicConfig()\n",
    "logger = logging.getLogger()\n",
    "logger.setLevel(logging.INFO)"
   ]
  },
  {
   "attachments": {},
   "cell_type": "markdown",
   "metadata": {},
   "source": [
    "## Handler with batch size\n",
    "\n",
    "Logs will be batched if you set the parameter `batch_size` to a value above 1."
   ]
  },
  {
   "cell_type": "code",
   "execution_count": 2,
   "metadata": {},
   "outputs": [],
   "source": [
    "# we will use a batch size of 10\n",
    "handler = RedisStreamLogHandler(batch_size=10)\n",
    "# add the handler to the logger\n",
    "logger.addHandler(handler)"
   ]
  },
  {
   "attachments": {},
   "cell_type": "markdown",
   "metadata": {},
   "source": [
    "### Emit some logs"
   ]
  },
  {
   "cell_type": "code",
   "execution_count": 3,
   "metadata": {},
   "outputs": [
    {
     "name": "stderr",
     "output_type": "stream",
     "text": [
      "INFO:root:Some log message\n",
      "INFO:root:Another log message\n",
      "ERROR:root:An error message!\n"
     ]
    }
   ],
   "source": [
    "logger.info(\"Some log message\")\n",
    "logger.info(\"Another log message\")\n",
    "logger.error(\"An error message!\")"
   ]
  },
  {
   "attachments": {},
   "cell_type": "markdown",
   "metadata": {},
   "source": [
    "### Retrieve the logs saved"
   ]
  },
  {
   "cell_type": "code",
   "execution_count": 4,
   "metadata": {},
   "outputs": [
    {
     "data": {
      "text/plain": [
       "[]"
      ]
     },
     "execution_count": 4,
     "metadata": {},
     "output_type": "execute_result"
    }
   ],
   "source": [
    "from redis import Redis\n",
    "\n",
    "r = Redis(decode_responses=True)\n",
    "r.xrange(\"logs\", \"-\", \"+\")"
   ]
  },
  {
   "attachments": {},
   "cell_type": "markdown",
   "metadata": {},
   "source": [
    "The list is empty, no logs have been saved! We emitted 3 logs which is less than the specified batch size (10); the logs are currently saved in out handler buffer. Once this buffer length reaches the specified batch size, all the logs are emitted using a [pipeline](https://redis-py.readthedocs.io/en/stable/examples/pipeline_examples.html).\n",
    "\n",
    "We can check that the logs are in the handler buffer:"
   ]
  },
  {
   "cell_type": "code",
   "execution_count": 5,
   "metadata": {},
   "outputs": [
    {
     "data": {
      "text/plain": [
       "[{'msg': 'Some log message',\n",
       "  'levelname': 'INFO',\n",
       "  'created': 1675347126.6934602},\n",
       " {'msg': 'Another log message',\n",
       "  'levelname': 'INFO',\n",
       "  'created': 1675347126.695122},\n",
       " {'msg': 'An error message!',\n",
       "  'levelname': 'ERROR',\n",
       "  'created': 1675347126.6964118}]"
      ]
     },
     "execution_count": 5,
     "metadata": {},
     "output_type": "execute_result"
    }
   ],
   "source": [
    "handler.log_buffer"
   ]
  },
  {
   "attachments": {},
   "cell_type": "markdown",
   "metadata": {},
   "source": [
    "### Emit more logs\n",
    "\n",
    "Here we will emit 7 other logs to reach the specified batch size of 10."
   ]
  },
  {
   "cell_type": "code",
   "execution_count": 6,
   "metadata": {},
   "outputs": [
    {
     "name": "stderr",
     "output_type": "stream",
     "text": [
      "INFO:root:Another log message 0\n",
      "INFO:root:Another log message 1\n",
      "INFO:root:Another log message 2\n",
      "INFO:root:Another log message 3\n",
      "INFO:root:Another log message 4\n",
      "INFO:root:Another log message 5\n",
      "INFO:root:Another log message 6\n"
     ]
    }
   ],
   "source": [
    "for i in range(7):\n",
    "    logger.info(\"Another log message %s\", i)"
   ]
  },
  {
   "attachments": {},
   "cell_type": "markdown",
   "metadata": {},
   "source": [
    "### Retrieve logs saved (for real this time)"
   ]
  },
  {
   "cell_type": "code",
   "execution_count": 7,
   "metadata": {},
   "outputs": [
    {
     "data": {
      "text/plain": [
       "[('1675347126898-0',\n",
       "  {'msg': 'Some log message',\n",
       "   'levelname': 'INFO',\n",
       "   'created': '1675347126.6934602'}),\n",
       " ('1675347126898-1',\n",
       "  {'msg': 'Another log message',\n",
       "   'levelname': 'INFO',\n",
       "   'created': '1675347126.695122'}),\n",
       " ('1675347126898-2',\n",
       "  {'msg': 'An error message!',\n",
       "   'levelname': 'ERROR',\n",
       "   'created': '1675347126.6964118'}),\n",
       " ('1675347126898-3',\n",
       "  {'msg': 'Another log message %s',\n",
       "   'levelname': 'INFO',\n",
       "   'created': '1675347126.8935595'}),\n",
       " ('1675347126898-4',\n",
       "  {'msg': 'Another log message %s',\n",
       "   'levelname': 'INFO',\n",
       "   'created': '1675347126.8946795'}),\n",
       " ('1675347126898-5',\n",
       "  {'msg': 'Another log message %s',\n",
       "   'levelname': 'INFO',\n",
       "   'created': '1675347126.8951957'}),\n",
       " ('1675347126898-6',\n",
       "  {'msg': 'Another log message %s',\n",
       "   'levelname': 'INFO',\n",
       "   'created': '1675347126.8959773'}),\n",
       " ('1675347126898-7',\n",
       "  {'msg': 'Another log message %s',\n",
       "   'levelname': 'INFO',\n",
       "   'created': '1675347126.8966084'}),\n",
       " ('1675347126898-8',\n",
       "  {'msg': 'Another log message %s',\n",
       "   'levelname': 'INFO',\n",
       "   'created': '1675347126.8972368'}),\n",
       " ('1675347126898-9',\n",
       "  {'msg': 'Another log message %s',\n",
       "   'levelname': 'INFO',\n",
       "   'created': '1675347126.8977263'})]"
      ]
     },
     "execution_count": 7,
     "metadata": {},
     "output_type": "execute_result"
    }
   ],
   "source": [
    "r.xrange(\"logs\", \"-\", \"+\")"
   ]
  },
  {
   "attachments": {},
   "cell_type": "markdown",
   "metadata": {},
   "source": [
    "Our 10 logs have successfully been saved to Redis; you can notice that all those logs has been saved at the same time.\n",
    "\n",
    "We can also check that our handler log buffer is now empty:"
   ]
  },
  {
   "cell_type": "code",
   "execution_count": 8,
   "metadata": {},
   "outputs": [
    {
     "data": {
      "text/plain": [
       "[]"
      ]
     },
     "execution_count": 8,
     "metadata": {},
     "output_type": "execute_result"
    }
   ],
   "source": [
    "handler.log_buffer"
   ]
  },
  {
   "attachments": {},
   "cell_type": "markdown",
   "metadata": {},
   "source": [
    "### Remaining logs\n",
    "\n",
    "If you program end unexpectedly, the remaining batched logs will be emitted, no data will be lost."
   ]
  },
  {
   "cell_type": "code",
   "execution_count": 9,
   "metadata": {},
   "outputs": [
    {
     "name": "stderr",
     "output_type": "stream",
     "text": [
      "INFO:root:An info log\n"
     ]
    }
   ],
   "source": [
    "# we will use a batch size of 10\n",
    "handler = RedisStreamLogHandler(batch_size=10, stream_name=\"remaining_logs\")\n",
    "# add the handler to the logger\n",
    "logger.addHandler(handler)\n",
    "\n",
    "logger.info(\"An info log\")\n",
    "\n",
    "del logger"
   ]
  },
  {
   "cell_type": "code",
   "execution_count": 10,
   "metadata": {},
   "outputs": [
    {
     "data": {
      "text/plain": [
       "[]"
      ]
     },
     "execution_count": 10,
     "metadata": {},
     "output_type": "execute_result"
    }
   ],
   "source": [
    "r.xrange(\"remaining_logs\", \"-\", \"+\")"
   ]
  },
  {
   "attachments": {},
   "cell_type": "markdown",
   "metadata": {},
   "source": [
    "## Execution time comparison\n",
    "\n",
    "The main advantage of batching logs is to improve execution time. This is relevant only if you application is emitting a large amount of logs within a short period of time.\n",
    "\n",
    "Here we will emit 1000 logs using `RedisStreamLogHandler` and compare the execution time with different values of batch size."
   ]
  },
  {
   "cell_type": "code",
   "execution_count": 11,
   "metadata": {},
   "outputs": [],
   "source": [
    "import time\n",
    "\n",
    "# define the logger\n",
    "logging.basicConfig()\n",
    "logger = logging.getLogger()\n",
    "logger.setLevel(logging.INFO)\n",
    "# removing stdout handler\n",
    "logger.removeHandler(logging.getLogger().handlers[0])\n",
    "\n",
    "def emit_n_logs(logger, n_logs):\n",
    "    \"\"\"Emits the given amount of log\"\"\"\n",
    "    for i in range(n_logs):\n",
    "        logger.info(\"Log n°%s\", i)\n",
    "\n",
    "LOGS_TO_EMIT = 100_000"
   ]
  },
  {
   "attachments": {},
   "cell_type": "markdown",
   "metadata": {},
   "source": [
    "### Execution time without batching"
   ]
  },
  {
   "cell_type": "code",
   "execution_count": 12,
   "metadata": {},
   "outputs": [
    {
     "name": "stdout",
     "output_type": "stream",
     "text": [
      "100000 logs saved in 17.078 seconds\n"
     ]
    }
   ],
   "source": [
    "handler = RedisStreamLogHandler(stream_name=\"no_batch\")\n",
    "# add the handler to the logger\n",
    "logger.addHandler(handler)\n",
    "\n",
    "start_time = time.time()\n",
    "emit_n_logs(logger, LOGS_TO_EMIT)\n",
    "print(f'{len(r.xrange(\"no_batch\", \"-\", \"+\"))} logs saved in {(time.time() - start_time):.3f} seconds')\n",
    "\n",
    "# remove the handler from logger\n",
    "logger.removeHandler(handler)"
   ]
  },
  {
   "attachments": {},
   "cell_type": "markdown",
   "metadata": {},
   "source": [
    "### Execution time with `batch_size=10`"
   ]
  },
  {
   "cell_type": "code",
   "execution_count": 13,
   "metadata": {},
   "outputs": [
    {
     "name": "stdout",
     "output_type": "stream",
     "text": [
      "100000 logs saved in 10.752 seconds\n"
     ]
    }
   ],
   "source": [
    "handler = RedisStreamLogHandler(batch_size=10, stream_name=\"batch_10\")\n",
    "# add the handler to the logger\n",
    "logger.addHandler(handler)\n",
    "\n",
    "start_time = time.time()\n",
    "emit_n_logs(logger, LOGS_TO_EMIT)\n",
    "print(f'{len(r.xrange(\"no_batch\", \"-\", \"+\"))} logs saved in {(time.time() - start_time):.3f} seconds')\n",
    "\n",
    "# remove the handler from logger\n",
    "logger.removeHandler(handler)"
   ]
  },
  {
   "attachments": {},
   "cell_type": "markdown",
   "metadata": {},
   "source": [
    "### Execution time with `batch_size=100`"
   ]
  },
  {
   "cell_type": "code",
   "execution_count": 14,
   "metadata": {},
   "outputs": [
    {
     "name": "stdout",
     "output_type": "stream",
     "text": [
      "100000 logs saved in 9.959 seconds\n"
     ]
    }
   ],
   "source": [
    "handler = RedisStreamLogHandler(batch_size=100, stream_name=\"batch_100\")\n",
    "# add the handler to the logger\n",
    "logger.addHandler(handler)\n",
    "\n",
    "start_time = time.time()\n",
    "emit_n_logs(logger, LOGS_TO_EMIT)\n",
    "print(f'{len(r.xrange(\"no_batch\", \"-\", \"+\"))} logs saved in {(time.time() - start_time):.3f} seconds')\n",
    "\n",
    "# remove the handler from logger\n",
    "logger.removeHandler(handler)"
   ]
  },
  {
   "attachments": {},
   "cell_type": "markdown",
   "metadata": {},
   "source": [
    "### Execution time with `batch_size=1_000`"
   ]
  },
  {
   "cell_type": "code",
   "execution_count": 15,
   "metadata": {},
   "outputs": [
    {
     "name": "stdout",
     "output_type": "stream",
     "text": [
      "100000 logs saved in 10.023 seconds\n"
     ]
    }
   ],
   "source": [
    "handler = RedisStreamLogHandler(batch_size=1_000, stream_name=\"batch_1000\")\n",
    "# add the handler to the logger\n",
    "logger.addHandler(handler)\n",
    "\n",
    "start_time = time.time()\n",
    "emit_n_logs(logger, LOGS_TO_EMIT)\n",
    "print(f'{len(r.xrange(\"no_batch\", \"-\", \"+\"))} logs saved in {(time.time() - start_time):.3f} seconds')\n",
    "\n",
    "# remove the handler from logger\n",
    "logger.removeHandler(handler)"
   ]
  },
  {
   "attachments": {},
   "cell_type": "markdown",
   "metadata": {},
   "source": [
    "### Execution time with `batch_size=10_000`"
   ]
  },
  {
   "cell_type": "code",
   "execution_count": 16,
   "metadata": {},
   "outputs": [
    {
     "name": "stdout",
     "output_type": "stream",
     "text": [
      "100000 logs saved in 9.771 seconds\n"
     ]
    }
   ],
   "source": [
    "handler = RedisStreamLogHandler(batch_size=10_000, stream_name=\"batch_10000\")\n",
    "# add the handler to the logger\n",
    "logger.addHandler(handler)\n",
    "\n",
    "start_time = time.time()\n",
    "emit_n_logs(logger, LOGS_TO_EMIT)\n",
    "print(f'{len(r.xrange(\"no_batch\", \"-\", \"+\"))} logs saved in {(time.time() - start_time):.3f} seconds')\n",
    "\n",
    "# remove the handler from logger\n",
    "logger.removeHandler(handler)"
   ]
  },
  {
   "attachments": {},
   "cell_type": "markdown",
   "metadata": {},
   "source": [
    "If `batch_size` is well chosen, it can greatly reduce the execution time of you program."
   ]
  }
 ],
 "metadata": {
  "kernelspec": {
   "display_name": "redis-log-handler-mVC8iCn6",
   "language": "python",
   "name": "python3"
  },
  "language_info": {
   "codemirror_mode": {
    "name": "ipython",
    "version": 3
   },
   "file_extension": ".py",
   "mimetype": "text/x-python",
   "name": "python",
   "nbconvert_exporter": "python",
   "pygments_lexer": "ipython3",
   "version": "3.9.2"
  },
  "orig_nbformat": 4,
  "vscode": {
   "interpreter": {
    "hash": "4fb3728c2d99974b2aa5948699488532b52e133520d5724a0e19c4170d0eb968"
   }
  }
 },
 "nbformat": 4,
 "nbformat_minor": 2
}

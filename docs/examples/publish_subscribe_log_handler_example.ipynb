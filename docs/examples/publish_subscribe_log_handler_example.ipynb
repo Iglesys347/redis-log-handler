{
 "cells": [
  {
   "attachments": {},
   "cell_type": "markdown",
   "metadata": {},
   "source": [
    "# Pub/Sub log handler example\n",
    "\n",
    "This example will show you how to forward logs into a [Redis Pub/Sub](https://redis.io/docs/manual/pubsub/) channel using `rlh.RedisPubSubLogHandler`."
   ]
  },
  {
   "attachments": {},
   "cell_type": "markdown",
   "metadata": {},
   "source": [
    "## Logger setup"
   ]
  },
  {
   "cell_type": "code",
   "execution_count": 1,
   "metadata": {},
   "outputs": [],
   "source": [
    "import logging\n",
    "from rlh import RedisPubSubLogHandler\n",
    "\n",
    "# define the logger\n",
    "logging.basicConfig()\n",
    "logger = logging.getLogger()\n",
    "logger.setLevel(logging.INFO)"
   ]
  },
  {
   "attachments": {},
   "cell_type": "markdown",
   "metadata": {},
   "source": [
    "## Default handler\n",
    "\n",
    "By default, the `RedisPubSubLogHandler` will send the logs to a `redis.Redis` instance (running by default on localhost, port 6379) in a channel named **\"logs\"**."
   ]
  },
  {
   "attachments": {},
   "cell_type": "markdown",
   "metadata": {},
   "source": [
    "### Define a default Redis pub/sub handler and adding the handler to our logger"
   ]
  },
  {
   "cell_type": "code",
   "execution_count": 2,
   "metadata": {},
   "outputs": [],
   "source": [
    "# define the default Redis pub/sub handler\n",
    "handler = RedisPubSubLogHandler()\n",
    "# add the handler to the logger\n",
    "logger.addHandler(handler)"
   ]
  },
  {
   "attachments": {},
   "cell_type": "markdown",
   "metadata": {},
   "source": [
    "### Subscribe to the log channel\n",
    "\n",
    "Note that the logs emitted before subscription will be lost, so make sure to define a subscriber before publishing any logs."
   ]
  },
  {
   "cell_type": "code",
   "execution_count": 3,
   "metadata": {},
   "outputs": [
    {
     "data": {
      "text/plain": [
       "{'type': 'subscribe', 'pattern': None, 'channel': 'logs', 'data': 1}"
      ]
     },
     "execution_count": 3,
     "metadata": {},
     "output_type": "execute_result"
    }
   ],
   "source": [
    "from redis import Redis\n",
    "\n",
    "r = Redis(decode_responses=True)\n",
    "pubsub = r.pubsub()\n",
    "pubsub.subscribe(\"logs\")\n",
    "pubsub.get_message(timeout=10)"
   ]
  },
  {
   "attachments": {},
   "cell_type": "markdown",
   "metadata": {},
   "source": [
    "### Emit some logs"
   ]
  },
  {
   "cell_type": "code",
   "execution_count": 4,
   "metadata": {},
   "outputs": [
    {
     "name": "stderr",
     "output_type": "stream",
     "text": [
      "INFO:root:Some log message\n",
      "INFO:root:Another log message\n",
      "ERROR:root:An error message!\n"
     ]
    }
   ],
   "source": [
    "logger.info(\"Some log message\")\n",
    "logger.info(\"Another log message\")\n",
    "logger.error(\"An error message!\")"
   ]
  },
  {
   "attachments": {},
   "cell_type": "markdown",
   "metadata": {},
   "source": [
    "### Retrieve the logs emited"
   ]
  },
  {
   "cell_type": "code",
   "execution_count": 5,
   "metadata": {},
   "outputs": [
    {
     "name": "stdout",
     "output_type": "stream",
     "text": [
      "Log 0 :  {\"msg\": \"Some log message\", \"levelname\": \"INFO\", \"created\": 1675346789.361666}\n",
      "Log 1 :  {\"msg\": \"Another log message\", \"levelname\": \"INFO\", \"created\": 1675346789.3638494}\n",
      "Log 2 :  {\"msg\": \"An error message!\", \"levelname\": \"ERROR\", \"created\": 1675346789.36544}\n"
     ]
    }
   ],
   "source": [
    "for i in range(3):\n",
    "    log = pubsub.get_message(timeout=10)\n",
    "    print(f\"Log {i} : \", log[\"data\"])"
   ]
  },
  {
   "attachments": {},
   "cell_type": "markdown",
   "metadata": {},
   "source": [
    "## Custom channel name\n",
    "\n",
    "By default, the logs are saved in a channel named \"logs\", you can however change this by setting the `channel_name` parameter."
   ]
  },
  {
   "cell_type": "code",
   "execution_count": 6,
   "metadata": {},
   "outputs": [],
   "source": [
    "# handler with a custom stream name\n",
    "handler = RedisPubSubLogHandler(channel_name=\"custom\")"
   ]
  },
  {
   "attachments": {},
   "cell_type": "markdown",
   "metadata": {},
   "source": [
    "## Change saved fields\n",
    "\n",
    "By default the logs emitted are saved as a dict with the following fields:\n",
    "\n",
    "- msg : the log message\n",
    "- levelname : the log level\n",
    "- created : the timestamp when the log has been created\n",
    "\n",
    "But those fields can be tunned by specifying the `fields` parameter of `RedisPubSubLogHandler`. The fields specified must be valid `LogRecord` attributes (you can see the list of valid attributes in [Python logging documentation](https://docs.python.org/3/library/logging.html#logrecord-attributes))."
   ]
  },
  {
   "cell_type": "code",
   "execution_count": 7,
   "metadata": {},
   "outputs": [
    {
     "data": {
      "text/plain": [
       "{'type': 'subscribe', 'pattern': None, 'channel': 'custom_fields', 'data': 1}"
      ]
     },
     "execution_count": 7,
     "metadata": {},
     "output_type": "execute_result"
    }
   ],
   "source": [
    "# remove the previous handler\n",
    "logger.removeHandler(handler)\n",
    "\n",
    "# create a handler with fields msg, lineno and name\n",
    "handler = RedisPubSubLogHandler(channel_name=\"custom_fields\", fields=[\"msg\", \"lineno\", \"name\"])\n",
    "logger.addHandler(handler)\n",
    "\n",
    "pubsub = r.pubsub()\n",
    "pubsub.subscribe(\"custom_fields\")\n",
    "pubsub.get_message(timeout=10)"
   ]
  },
  {
   "cell_type": "code",
   "execution_count": 8,
   "metadata": {},
   "outputs": [
    {
     "name": "stderr",
     "output_type": "stream",
     "text": [
      "INFO:root:Some log message\n",
      "INFO:root:Another log message\n",
      "ERROR:root:An error message!\n"
     ]
    }
   ],
   "source": [
    "logger.info(\"Some log message\")\n",
    "logger.info(\"Another log message\")\n",
    "logger.error(\"An error message!\")"
   ]
  },
  {
   "cell_type": "code",
   "execution_count": 9,
   "metadata": {},
   "outputs": [
    {
     "name": "stdout",
     "output_type": "stream",
     "text": [
      "Log 0 :  {\"msg\": \"Some log message\", \"lineno\": 1, \"name\": \"root\"}\n",
      "Log 1 :  {\"msg\": \"Another log message\", \"lineno\": 2, \"name\": \"root\"}\n",
      "Log 2 :  {\"msg\": \"An error message!\", \"lineno\": 3, \"name\": \"root\"}\n"
     ]
    }
   ],
   "source": [
    "for i in range(3):\n",
    "    log = pubsub.get_message(timeout=10)\n",
    "    print(f\"Log {i} : \", log[\"data\"])"
   ]
  },
  {
   "attachments": {},
   "cell_type": "markdown",
   "metadata": {},
   "source": [
    "The dict saved for each log now contains the custom fields specified earlier."
   ]
  },
  {
   "attachments": {},
   "cell_type": "markdown",
   "metadata": {},
   "source": [
    "## Save logs as pickle format\n",
    "\n",
    "Rather than saving only some of the LogRecord attributes, you can save the whole object in their [pickle format](https://docs.python.org/3/library/pickle.html). This can be usefull if you need to re-use the logs in another Python program (pickle format is Python specific)."
   ]
  },
  {
   "cell_type": "code",
   "execution_count": 10,
   "metadata": {},
   "outputs": [
    {
     "data": {
      "text/plain": [
       "{'type': 'subscribe', 'pattern': None, 'channel': b'pkl_logs', 'data': 1}"
      ]
     },
     "execution_count": 10,
     "metadata": {},
     "output_type": "execute_result"
    }
   ],
   "source": [
    "# remove the previous handler\n",
    "logger.removeHandler(handler)\n",
    "\n",
    "# create a handler that saves logs as pickle format\n",
    "handler = RedisPubSubLogHandler(channel_name=\"pkl_logs\", as_pkl=True)\n",
    "logger.addHandler(handler)\n",
    "\n",
    "r = Redis()\n",
    "pubsub = r.pubsub()\n",
    "pubsub.subscribe(\"pkl_logs\")\n",
    "pubsub.get_message(timeout=10)"
   ]
  },
  {
   "cell_type": "code",
   "execution_count": 11,
   "metadata": {},
   "outputs": [
    {
     "name": "stderr",
     "output_type": "stream",
     "text": [
      "INFO:root:Some log message\n"
     ]
    }
   ],
   "source": [
    "logger.info(\"Some log message\")"
   ]
  },
  {
   "cell_type": "code",
   "execution_count": 12,
   "metadata": {},
   "outputs": [
    {
     "data": {
      "text/plain": [
       "'Some log message'"
      ]
     },
     "execution_count": 12,
     "metadata": {},
     "output_type": "execute_result"
    }
   ],
   "source": [
    "import pickle\n",
    "\n",
    "record = pickle.loads(pubsub.get_message(timeout=10)[\"data\"])\n",
    "record.getMessage()"
   ]
  }
 ],
 "metadata": {
  "kernelspec": {
   "display_name": "redis-log-handler-mVC8iCn6",
   "language": "python",
   "name": "python3"
  },
  "language_info": {
   "codemirror_mode": {
    "name": "ipython",
    "version": 3
   },
   "file_extension": ".py",
   "mimetype": "text/x-python",
   "name": "python",
   "nbconvert_exporter": "python",
   "pygments_lexer": "ipython3",
   "version": "3.9.2"
  },
  "orig_nbformat": 4,
  "vscode": {
   "interpreter": {
    "hash": "4fb3728c2d99974b2aa5948699488532b52e133520d5724a0e19c4170d0eb968"
   }
  }
 },
 "nbformat": 4,
 "nbformat_minor": 2
}

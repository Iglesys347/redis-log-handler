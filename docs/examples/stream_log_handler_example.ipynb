{
 "cells": [
  {
   "attachments": {},
   "cell_type": "markdown",
   "metadata": {},
   "source": [
    "# Stream log handler example\n",
    "\n",
    "This example will show you how to forward logs into a [Redis Stream](https://redis.io/docs/data-types/streams/) using `rlh.RedisStreamHandler`."
   ]
  },
  {
   "attachments": {},
   "cell_type": "markdown",
   "metadata": {},
   "source": [
    "## Logger setup"
   ]
  },
  {
   "cell_type": "code",
   "execution_count": 1,
   "metadata": {},
   "outputs": [],
   "source": [
    "import logging\n",
    "from rlh import RedisStreamLogHandler\n",
    "\n",
    "# define the logger\n",
    "logging.basicConfig()\n",
    "logger = logging.getLogger()\n",
    "logger.setLevel(logging.INFO)"
   ]
  },
  {
   "attachments": {},
   "cell_type": "markdown",
   "metadata": {},
   "source": [
    "## Default handler\n",
    "\n",
    "By default, the `RedisStreamLogHandler` will send the logs to a `redis.Redis` instance (running by default on localhost, port 6379) in a stream named **\"logs\"**."
   ]
  },
  {
   "attachments": {},
   "cell_type": "markdown",
   "metadata": {},
   "source": [
    "### Define a default Redis stream handler and adding the handler to our logger"
   ]
  },
  {
   "cell_type": "code",
   "execution_count": 2,
   "metadata": {},
   "outputs": [],
   "source": [
    "# define the default Redis stream handler\n",
    "handler = RedisStreamLogHandler()\n",
    "# add the handler to the logger\n",
    "logger.addHandler(handler)"
   ]
  },
  {
   "attachments": {},
   "cell_type": "markdown",
   "metadata": {},
   "source": [
    "### Emit some logs"
   ]
  },
  {
   "cell_type": "code",
   "execution_count": 3,
   "metadata": {},
   "outputs": [
    {
     "name": "stderr",
     "output_type": "stream",
     "text": [
      "INFO:root:Some log message\n",
      "INFO:root:Another log message\n",
      "ERROR:root:An error message!\n"
     ]
    }
   ],
   "source": [
    "logger.info(\"Some log message\")\n",
    "logger.info(\"Another log message\")\n",
    "logger.error(\"An error message!\")"
   ]
  },
  {
   "attachments": {},
   "cell_type": "markdown",
   "metadata": {},
   "source": [
    "### Retrieve the logs emited"
   ]
  },
  {
   "cell_type": "code",
   "execution_count": 4,
   "metadata": {},
   "outputs": [
    {
     "data": {
      "text/plain": [
       "[('1676638733992-0',\n",
       "  {'msg': 'Some log message',\n",
       "   'levelname': 'INFO',\n",
       "   'created': '1676638733.9901333'}),\n",
       " ('1676638733994-0',\n",
       "  {'msg': 'Another log message',\n",
       "   'levelname': 'INFO',\n",
       "   'created': '1676638733.992978'}),\n",
       " ('1676638733996-0',\n",
       "  {'msg': 'An error message!',\n",
       "   'levelname': 'ERROR',\n",
       "   'created': '1676638733.9949841'}),\n",
       " ('1676638768379-0',\n",
       "  {'msg': 'Some log message',\n",
       "   'levelname': 'INFO',\n",
       "   'created': '1676638768.377096'}),\n",
       " ('1676638768380-0',\n",
       "  {'msg': 'Another log message',\n",
       "   'levelname': 'INFO',\n",
       "   'created': '1676638768.3795207'}),\n",
       " ('1676638768382-0',\n",
       "  {'msg': 'An error message!',\n",
       "   'levelname': 'ERROR',\n",
       "   'created': '1676638768.381374'}),\n",
       " ('1676638811791-0',\n",
       "  {'msg': 'Some log message',\n",
       "   'levelname': 'INFO',\n",
       "   'created': '1676638811.7903416'}),\n",
       " ('1676638811792-0',\n",
       "  {'msg': 'Another log message',\n",
       "   'levelname': 'INFO',\n",
       "   'created': '1676638811.7914383'}),\n",
       " ('1676638811793-0',\n",
       "  {'msg': 'An error message!',\n",
       "   'levelname': 'ERROR',\n",
       "   'created': '1676638811.7926123'}),\n",
       " ('1676638872008-0',\n",
       "  {'msg': 'Some log message',\n",
       "   'levelname': 'INFO',\n",
       "   'created': '1676638872.007143'}),\n",
       " ('1676638872009-0',\n",
       "  {'msg': 'Another log message',\n",
       "   'levelname': 'INFO',\n",
       "   'created': '1676638872.0087047'}),\n",
       " ('1676638872010-0',\n",
       "  {'msg': 'An error message!',\n",
       "   'levelname': 'ERROR',\n",
       "   'created': '1676638872.0101254'}),\n",
       " ('1676638903137-0',\n",
       "  {'msg': 'Some log message',\n",
       "   'levelname': 'INFO',\n",
       "   'created': '1676638903.1366746'}),\n",
       " ('1676638903139-0',\n",
       "  {'msg': 'Another log message',\n",
       "   'levelname': 'INFO',\n",
       "   'created': '1676638903.138543'}),\n",
       " ('1676638903140-0',\n",
       "  {'msg': 'An error message!',\n",
       "   'levelname': 'ERROR',\n",
       "   'created': '1676638903.1398375'}),\n",
       " ('1676638919216-0',\n",
       "  {'msg': 'Some log message',\n",
       "   'levelname': 'INFO',\n",
       "   'created': '1676638919.2142808'}),\n",
       " ('1676638919219-0',\n",
       "  {'msg': 'Another log message',\n",
       "   'levelname': 'INFO',\n",
       "   'created': '1676638919.2176497'}),\n",
       " ('1676638919220-0',\n",
       "  {'msg': 'An error message!',\n",
       "   'levelname': 'ERROR',\n",
       "   'created': '1676638919.2195425'}),\n",
       " ('1676638919373-0',\n",
       "  {'msg': 'Some log message',\n",
       "   'levelname': 'INFO',\n",
       "   'created': '1676638919.3716154'}),\n",
       " ('1676638919376-0',\n",
       "  {'msg': 'Another log message',\n",
       "   'levelname': 'INFO',\n",
       "   'created': '1676638919.3746507'}),\n",
       " ('1676638919378-0',\n",
       "  {'msg': 'An error message!',\n",
       "   'levelname': 'ERROR',\n",
       "   'created': '1676638919.3776107'}),\n",
       " ('1676638919517-0',\n",
       "  {'msg': 'Some log message',\n",
       "   'levelname': 'INFO',\n",
       "   'created': '1676638919.5143547'}),\n",
       " ('1676638919519-0',\n",
       "  {'msg': 'Another log message',\n",
       "   'levelname': 'INFO',\n",
       "   'created': '1676638919.5185797'}),\n",
       " ('1676638919522-0',\n",
       "  {'msg': 'An error message!',\n",
       "   'levelname': 'ERROR',\n",
       "   'created': '1676638919.5209208'}),\n",
       " ('1676638919639-0',\n",
       "  {'msg': 'Some log message',\n",
       "   'levelname': 'INFO',\n",
       "   'created': '1676638919.6361604'}),\n",
       " ('1676639089881-0',\n",
       "  {'msg': 'Some log message',\n",
       "   'levelname': 'INFO',\n",
       "   'created': '1676639089.8804429'}),\n",
       " ('1676639089884-0',\n",
       "  {'msg': 'Another log message',\n",
       "   'levelname': 'INFO',\n",
       "   'created': '1676639089.882255'}),\n",
       " ('1676639089886-0',\n",
       "  {'msg': 'An error message!',\n",
       "   'levelname': 'ERROR',\n",
       "   'created': '1676639089.8847578'})]"
      ]
     },
     "execution_count": 4,
     "metadata": {},
     "output_type": "execute_result"
    }
   ],
   "source": [
    "from redis import Redis\n",
    "\n",
    "r = Redis(decode_responses=True)\n",
    "r.xrange(\"logs\", \"-\", \"+\")"
   ]
  },
  {
   "attachments": {},
   "cell_type": "markdown",
   "metadata": {},
   "source": [
    "## Custom stream name\n",
    "\n",
    "By default, the logs are saved in a stream named \"logs\", you can however change this by setting the `stream_name` parameter."
   ]
  },
  {
   "cell_type": "code",
   "execution_count": 5,
   "metadata": {},
   "outputs": [],
   "source": [
    "# handler with a custom stream name\n",
    "handler = RedisStreamLogHandler(stream_name=\"custom\")"
   ]
  },
  {
   "attachments": {},
   "cell_type": "markdown",
   "metadata": {},
   "source": [
    "## Set stream maximum length\n",
    "\n",
    "You can set a maximum length for the stream with `maxlen` parameter, so it does not grow indefinitely. By default this maximum length is approximate, which means that if the maximum length is set to `n` the stream will contain at least `n` entries, but can contain more. You can however force the stream to contain  exactly `maxlen` entries by setting `approximate` parameter to `False`; but this is not recommended as it can create performance issues as stated in Redis documentation (see [Redis documentation](https://redis.io/docs/data-types/streams-tutorial/#capped-streams) for more information)."
   ]
  },
  {
   "cell_type": "code",
   "execution_count": 6,
   "metadata": {},
   "outputs": [
    {
     "name": "stderr",
     "output_type": "stream",
     "text": [
      "INFO:root:Some log message\n",
      "INFO:root:Another log message\n",
      "ERROR:root:An error message!\n"
     ]
    }
   ],
   "source": [
    "# remove the previous handler\n",
    "logger.removeHandler(handler)\n",
    "\n",
    "# handler with a fixed maximum length of 1\n",
    "handler = RedisStreamLogHandler(stream_name=\"maxlen\", maxlen=1, approximate=False)\n",
    "logger.addHandler(handler)\n",
    "\n",
    "# adding some logs\n",
    "logger.info(\"Some log message\")\n",
    "logger.info(\"Another log message\")\n",
    "logger.error(\"An error message!\")"
   ]
  },
  {
   "cell_type": "code",
   "execution_count": 7,
   "metadata": {},
   "outputs": [
    {
     "data": {
      "text/plain": [
       "[('1676639090037-0',\n",
       "  {'msg': 'An error message!',\n",
       "   'levelname': 'ERROR',\n",
       "   'created': '1676639090.0358083'})]"
      ]
     },
     "execution_count": 7,
     "metadata": {},
     "output_type": "execute_result"
    }
   ],
   "source": [
    "# retrieve all the logs in Redis stream\n",
    "r.xrange(\"maxlen\", \"-\", \"+\")"
   ]
  },
  {
   "attachments": {},
   "cell_type": "markdown",
   "metadata": {},
   "source": [
    "Only one message has been kept in the Redis stream."
   ]
  },
  {
   "attachments": {},
   "cell_type": "markdown",
   "metadata": {},
   "source": [
    "## Change saved fields\n",
    "\n",
    "By default the logs emitted are saved as a dict with the following fields:\n",
    "\n",
    "- msg : the log message\n",
    "- levelname : the log level\n",
    "- created : the timestamp when the log has been created\n",
    "\n",
    "But those fields can be tunned by specifying the `fields` parameter of `RedisStreamLogHandler`. The fields specified must be valid `LogRecord` attributes (you can see the list of valid attributes in [Python logging documentation](https://docs.python.org/3/library/logging.html#logrecord-attributes))."
   ]
  },
  {
   "cell_type": "code",
   "execution_count": 8,
   "metadata": {},
   "outputs": [],
   "source": [
    "# remove the previous handler\n",
    "logger.removeHandler(handler)\n",
    "\n",
    "# create a handler with fields msg, lineno and name\n",
    "handler = RedisStreamLogHandler(stream_name=\"custom_fields\", fields=[\"msg\", \"lineno\", \"name\"])\n",
    "logger.addHandler(handler)"
   ]
  },
  {
   "cell_type": "code",
   "execution_count": 9,
   "metadata": {},
   "outputs": [
    {
     "name": "stderr",
     "output_type": "stream",
     "text": [
      "INFO:root:Some log message\n",
      "INFO:root:Another log message\n",
      "ERROR:root:An error message!\n"
     ]
    }
   ],
   "source": [
    "logger.info(\"Some log message\")\n",
    "logger.info(\"Another log message\")\n",
    "logger.error(\"An error message!\")"
   ]
  },
  {
   "cell_type": "code",
   "execution_count": 10,
   "metadata": {},
   "outputs": [
    {
     "data": {
      "text/plain": [
       "[('1676638919518-0',\n",
       "  {'msg': 'Some log message', 'lineno': '1', 'name': 'root'}),\n",
       " ('1676638919520-0',\n",
       "  {'msg': 'Another log message', 'lineno': '2', 'name': 'root'}),\n",
       " ('1676638919522-0',\n",
       "  {'msg': 'An error message!', 'lineno': '3', 'name': 'root'}),\n",
       " ('1676639090209-0',\n",
       "  {'msg': 'Some log message', 'lineno': '1', 'name': 'root'}),\n",
       " ('1676639090211-0',\n",
       "  {'msg': 'Another log message', 'lineno': '2', 'name': 'root'}),\n",
       " ('1676639090213-0',\n",
       "  {'msg': 'An error message!', 'lineno': '3', 'name': 'root'})]"
      ]
     },
     "execution_count": 10,
     "metadata": {},
     "output_type": "execute_result"
    }
   ],
   "source": [
    "r.xrange(\"custom_fields\", \"-\", \"+\")"
   ]
  },
  {
   "attachments": {},
   "cell_type": "markdown",
   "metadata": {},
   "source": [
    "The dict saved for each log now contains the custom fields specified earlier."
   ]
  },
  {
   "attachments": {},
   "cell_type": "markdown",
   "metadata": {},
   "source": [
    "## Save logs as pickle format\n",
    "\n",
    "Rather than saving only some of the LogRecord attributes, you can save the whole object in their [pickle format](https://docs.python.org/3/library/pickle.html). This can be usefull if you need to re-use the logs in another Python program (pickle format is Python specific)."
   ]
  },
  {
   "cell_type": "code",
   "execution_count": 11,
   "metadata": {},
   "outputs": [],
   "source": [
    "# remove the previous handler\n",
    "logger.removeHandler(handler)\n",
    "\n",
    "# create a handler that saves logs as pickle format\n",
    "handler = RedisStreamLogHandler(stream_name=\"pkl_logs\", as_pkl=True)\n",
    "logger.addHandler(handler)"
   ]
  },
  {
   "cell_type": "code",
   "execution_count": 12,
   "metadata": {},
   "outputs": [
    {
     "name": "stderr",
     "output_type": "stream",
     "text": [
      "INFO:root:Some log message\n"
     ]
    }
   ],
   "source": [
    "logger.info(\"Some log message\")"
   ]
  },
  {
   "cell_type": "code",
   "execution_count": 13,
   "metadata": {},
   "outputs": [
    {
     "data": {
      "text/plain": [
       "'Some log message'"
      ]
     },
     "execution_count": 13,
     "metadata": {},
     "output_type": "execute_result"
    }
   ],
   "source": [
    "import pickle\n",
    "\n",
    "r = Redis()\n",
    "record = pickle.loads(r.xrange(\"pkl_logs\", \"-\", \"+\")[0][1][b\"pkl\"])\n",
    "record.getMessage()"
   ]
  }
 ],
 "metadata": {
  "kernelspec": {
   "display_name": "redis-log-handler-mVC8iCn6",
   "language": "python",
   "name": "python3"
  },
  "language_info": {
   "codemirror_mode": {
    "name": "ipython",
    "version": 3
   },
   "file_extension": ".py",
   "mimetype": "text/x-python",
   "name": "python",
   "nbconvert_exporter": "python",
   "pygments_lexer": "ipython3",
   "version": "3.9.2"
  },
  "orig_nbformat": 4,
  "vscode": {
   "interpreter": {
    "hash": "4fb3728c2d99974b2aa5948699488532b52e133520d5724a0e19c4170d0eb968"
   }
  }
 },
 "nbformat": 4,
 "nbformat_minor": 2
}

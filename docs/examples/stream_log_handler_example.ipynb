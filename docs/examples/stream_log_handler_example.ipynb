{
 "cells": [
  {
   "attachments": {},
   "cell_type": "markdown",
   "metadata": {},
   "source": [
    "# Stream log handler example\n",
    "\n",
    "This example will show you how to forward logs into a [Redis Stream](https://redis.io/docs/data-types/streams/) using `rlh.RedisStreamHandler`."
   ]
  },
  {
   "attachments": {},
   "cell_type": "markdown",
   "metadata": {},
   "source": [
    "## Logger setup"
   ]
  },
  {
   "cell_type": "code",
   "execution_count": 1,
   "metadata": {},
   "outputs": [],
   "source": [
    "import logging\n",
    "from rlh import RedisStreamLogHandler\n",
    "\n",
    "# define the logger\n",
    "logging.basicConfig()\n",
    "logger = logging.getLogger()\n",
    "logger.setLevel(logging.INFO)"
   ]
  },
  {
   "attachments": {},
   "cell_type": "markdown",
   "metadata": {},
   "source": [
    "## Default handler\n",
    "\n",
    "By default, the `RedisStreamLogHandler` will send the logs to a `redis.Redis` instance (running by default on localhost, port 6379) in a stream named **\"logs\"**."
   ]
  },
  {
   "attachments": {},
   "cell_type": "markdown",
   "metadata": {},
   "source": [
    "### Define a default Redis stream handler and adding the handler to our logger"
   ]
  },
  {
   "cell_type": "code",
   "execution_count": 2,
   "metadata": {},
   "outputs": [],
   "source": [
    "# define the default Redis stream handler\n",
    "handler = RedisStreamLogHandler()\n",
    "# add the handler to the logger\n",
    "logger.addHandler(handler)"
   ]
  },
  {
   "attachments": {},
   "cell_type": "markdown",
   "metadata": {},
   "source": [
    "### Emit some logs"
   ]
  },
  {
   "cell_type": "code",
   "execution_count": 3,
   "metadata": {},
   "outputs": [
    {
     "name": "stderr",
     "output_type": "stream",
     "text": [
      "INFO:root:Some log message\n",
      "INFO:root:Another log message\n",
      "ERROR:root:An error message!\n"
     ]
    }
   ],
   "source": [
    "logger.info(\"Some log message\")\n",
    "logger.info(\"Another log message\")\n",
    "logger.error(\"An error message!\")"
   ]
  },
  {
   "attachments": {},
   "cell_type": "markdown",
   "metadata": {},
   "source": [
    "### Retrieve the logs emited"
   ]
  },
  {
   "cell_type": "code",
   "execution_count": 4,
   "metadata": {},
   "outputs": [
    {
     "data": {
      "text/plain": [
       "[('1675346777654-0',\n",
       "  {'msg': 'Some log message',\n",
       "   'levelname': 'INFO',\n",
       "   'created': '1675346777.652662'}),\n",
       " ('1675346777655-0',\n",
       "  {'msg': 'Another log message',\n",
       "   'levelname': 'INFO',\n",
       "   'created': '1675346777.6544297'}),\n",
       " ('1675346777655-1',\n",
       "  {'msg': 'An error message!',\n",
       "   'levelname': 'ERROR',\n",
       "   'created': '1675346777.6552315'})]"
      ]
     },
     "execution_count": 4,
     "metadata": {},
     "output_type": "execute_result"
    }
   ],
   "source": [
    "from redis import Redis\n",
    "\n",
    "r = Redis(decode_responses=True)\n",
    "r.xrange(\"logs\", \"-\", \"+\")"
   ]
  },
  {
   "attachments": {},
   "cell_type": "markdown",
   "metadata": {},
   "source": [
    "## Custom stream name\n",
    "\n",
    "By default, the logs are saved in a stream named \"logs\", you can however change this by setting the `stream_name` parameter."
   ]
  },
  {
   "cell_type": "code",
   "execution_count": 5,
   "metadata": {},
   "outputs": [],
   "source": [
    "# handler with a custom stream name\n",
    "handler = RedisStreamLogHandler(stream_name=\"custom\")"
   ]
  },
  {
   "attachments": {},
   "cell_type": "markdown",
   "metadata": {},
   "source": [
    "## Change saved fields\n",
    "\n",
    "By default the logs emitted are saved as a dict with the following fields:\n",
    "\n",
    "- msg : the log message\n",
    "- levelname : the log level\n",
    "- created : the timestamp when the log has been created\n",
    "\n",
    "But those fields can be tunned by specifying the `fields` parameter of `RedisStreamLogHandler`. The fields specified must be valid `LogRecord` attributes (you can see the list of valid attributes in [Python logging documentation](https://docs.python.org/3/library/logging.html#logrecord-attributes))."
   ]
  },
  {
   "cell_type": "code",
   "execution_count": 6,
   "metadata": {},
   "outputs": [],
   "source": [
    "# remove the previous handler\n",
    "logger.removeHandler(handler)\n",
    "\n",
    "# create a handler with fields msg, lineno and name\n",
    "handler = RedisStreamLogHandler(stream_name=\"custom_fields\", fields=[\"msg\", \"lineno\", \"name\"])\n",
    "logger.addHandler(handler)"
   ]
  },
  {
   "cell_type": "code",
   "execution_count": 7,
   "metadata": {},
   "outputs": [
    {
     "name": "stderr",
     "output_type": "stream",
     "text": [
      "INFO:root:Some log message\n",
      "INFO:root:Another log message\n",
      "ERROR:root:An error message!\n"
     ]
    }
   ],
   "source": [
    "logger.info(\"Some log message\")\n",
    "logger.info(\"Another log message\")\n",
    "logger.error(\"An error message!\")"
   ]
  },
  {
   "cell_type": "code",
   "execution_count": 8,
   "metadata": {},
   "outputs": [
    {
     "data": {
      "text/plain": [
       "[('1675346777811-0',\n",
       "  {'msg': 'Some log message', 'lineno': '1', 'name': 'root'}),\n",
       " ('1675346777812-0',\n",
       "  {'msg': 'Another log message', 'lineno': '2', 'name': 'root'}),\n",
       " ('1675346777813-0',\n",
       "  {'msg': 'An error message!', 'lineno': '3', 'name': 'root'})]"
      ]
     },
     "execution_count": 8,
     "metadata": {},
     "output_type": "execute_result"
    }
   ],
   "source": [
    "r.xrange(\"custom_fields\", \"-\", \"+\")"
   ]
  },
  {
   "attachments": {},
   "cell_type": "markdown",
   "metadata": {},
   "source": [
    "The dict saved for each log now contains the custom fields specified earlier."
   ]
  },
  {
   "attachments": {},
   "cell_type": "markdown",
   "metadata": {},
   "source": [
    "## Save logs as pickle format\n",
    "\n",
    "Rather than saving only some of the LogRecord attributes, you can save the whole object in their [pickle format](https://docs.python.org/3/library/pickle.html). This can be usefull if you need to re-use the logs in another Python program (pickle format is Python specific)."
   ]
  },
  {
   "cell_type": "code",
   "execution_count": 9,
   "metadata": {},
   "outputs": [],
   "source": [
    "# remove the previous handler\n",
    "logger.removeHandler(handler)\n",
    "\n",
    "# create a handler that saves logs as pickle format\n",
    "handler = RedisStreamLogHandler(stream_name=\"pkl_logs\", as_pkl=True)\n",
    "logger.addHandler(handler)"
   ]
  },
  {
   "cell_type": "code",
   "execution_count": 10,
   "metadata": {},
   "outputs": [
    {
     "name": "stderr",
     "output_type": "stream",
     "text": [
      "INFO:root:Some log message\n"
     ]
    }
   ],
   "source": [
    "logger.info(\"Some log message\")"
   ]
  },
  {
   "cell_type": "code",
   "execution_count": 11,
   "metadata": {},
   "outputs": [
    {
     "data": {
      "text/plain": [
       "'Some log message'"
      ]
     },
     "execution_count": 11,
     "metadata": {},
     "output_type": "execute_result"
    }
   ],
   "source": [
    "import pickle\n",
    "\n",
    "r = Redis()\n",
    "record = pickle.loads(r.xrange(\"pkl_logs\", \"-\", \"+\")[0][1][b\"pkl\"])\n",
    "record.getMessage()"
   ]
  }
 ],
 "metadata": {
  "kernelspec": {
   "display_name": "redis-log-handler-mVC8iCn6",
   "language": "python",
   "name": "python3"
  },
  "language_info": {
   "codemirror_mode": {
    "name": "ipython",
    "version": 3
   },
   "file_extension": ".py",
   "mimetype": "text/x-python",
   "name": "python",
   "nbconvert_exporter": "python",
   "pygments_lexer": "ipython3",
   "version": "3.9.2"
  },
  "orig_nbformat": 4,
  "vscode": {
   "interpreter": {
    "hash": "4fb3728c2d99974b2aa5948699488532b52e133520d5724a0e19c4170d0eb968"
   }
  }
 },
 "nbformat": 4,
 "nbformat_minor": 2
}
